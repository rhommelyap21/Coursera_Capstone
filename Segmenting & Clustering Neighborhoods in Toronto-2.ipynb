{
    "cells": [
        {
            "cell_type": "code",
            "execution_count": 9,
            "metadata": {},
            "outputs": [
                {
                    "data": {
                        "text/html": "<div>\n<style scoped>\n    .dataframe tbody tr th:only-of-type {\n        vertical-align: middle;\n    }\n\n    .dataframe tbody tr th {\n        vertical-align: top;\n    }\n\n    .dataframe thead th {\n        text-align: right;\n    }\n</style>\n<table border=\"1\" class=\"dataframe\">\n  <thead>\n    <tr style=\"text-align: right;\">\n      <th></th>\n      <th>Postal Code</th>\n      <th>Borough</th>\n      <th>Neighborhood</th>\n    </tr>\n  </thead>\n  <tbody>\n    <tr>\n      <th>0</th>\n      <td>M1A\\n</td>\n      <td>Not assigned\\n</td>\n      <td>Not assigned\\n</td>\n    </tr>\n    <tr>\n      <th>1</th>\n      <td>M1B\\n</td>\n      <td>Scarborough\\n</td>\n      <td>Malvern, Rouge</td>\n    </tr>\n    <tr>\n      <th>2</th>\n      <td>M1C\\n</td>\n      <td>Scarborough\\n</td>\n      <td>Rouge Hill, Port Union, Highland Creek</td>\n    </tr>\n    <tr>\n      <th>3</th>\n      <td>M1E\\n</td>\n      <td>Scarborough\\n</td>\n      <td>Guildwood, Morningside, West Hill</td>\n    </tr>\n    <tr>\n      <th>4</th>\n      <td>M1G\\n</td>\n      <td>Scarborough\\n</td>\n      <td>Woburn</td>\n    </tr>\n  </tbody>\n</table>\n</div>",
                        "text/plain": "  Postal Code         Borough                            Neighborhood\n0       M1A\\n  Not assigned\\n                          Not assigned\\n\n1       M1B\\n   Scarborough\\n                          Malvern, Rouge\n2       M1C\\n   Scarborough\\n  Rouge Hill, Port Union, Highland Creek\n3       M1E\\n   Scarborough\\n       Guildwood, Morningside, West Hill\n4       M1G\\n   Scarborough\\n                                  Woburn"
                    },
                    "execution_count": 9,
                    "metadata": {},
                    "output_type": "execute_result"
                }
            ],
            "source": "from bs4 import BeautifulSoup\nimport requests\nimport pandas as pd\nimport numpy as np\n# download url data from internet\nurl = \"https://en.wikipedia.org/wiki/List_of_postal_codes_of_Canada:_M\"\nsource = requests.get(url).text\nCanada_data = BeautifulSoup(source, 'lxml')\n\n# creat a new Dataframe\ncolumn_names = ['Postalcode','Borough','Neighborhood']\ntoronto = pd.DataFrame(columns = column_names)\ncontent = Canada_data.find('div', class_='mw-parser-output')\ntable = content.table.tbody\npostcode = 0\nborough = 0\nneighborhood = 0\n\nfor tr in table.find_all('tr'):\n    i = 0\n    for td in tr.find_all('td'):\n        if i == 0:\n            postcode = td.text\n            i = i + 1\n        elif i == 1:\n            borough = td.text\n            i = i + 1\n        elif i == 2: \n            neighborhood = td.text.strip('\\n').replace(']','')\n    toronto = toronto.append({'Postalcode': postcode,'Borough': borough,'Neighborhood': neighborhood},ignore_index=True)\n\n# clean dataframe \ntoronto = toronto[toronto.Borough!='Not assigned']\ntoronto = toronto[toronto.Borough!= 0]\ntoronto.reset_index(drop = True, inplace = True)\ni = 0\nfor i in range(0,toronto.shape[0]):\n    if toronto.iloc[i][2] == 'Not assigned':\n        toronto.iloc[i][2] = toronto.iloc[i][1]\n        i = i+1\n                                 \ndf = toronto.groupby(['Postalcode','Borough'])['Neighborhood'].apply(', '.join).reset_index()\n\ndef neighborhood_list(grouped):    \n    return ', '.join(sorted(grouped['Neighborhood'].tolist()))\n                    \ngrp = df.groupby(['Postalcode', 'Borough'])\ndf2 = grp.apply(neighborhood_list).reset_index(name='Neighborhood')\ndf2.rename(columns={'Postalcode':'Postal Code'}, inplace=True)\ndf2.head()"
        },
        {
            "cell_type": "code",
            "execution_count": 13,
            "metadata": {},
            "outputs": [
                {
                    "data": {
                        "text/html": "<div>\n<style scoped>\n    .dataframe tbody tr th:only-of-type {\n        vertical-align: middle;\n    }\n\n    .dataframe tbody tr th {\n        vertical-align: top;\n    }\n\n    .dataframe thead th {\n        text-align: right;\n    }\n</style>\n<table border=\"1\" class=\"dataframe\">\n  <thead>\n    <tr style=\"text-align: right;\">\n      <th></th>\n      <th>Latitude</th>\n      <th>Longitude</th>\n    </tr>\n    <tr>\n      <th>Postal Code</th>\n      <th></th>\n      <th></th>\n    </tr>\n  </thead>\n  <tbody>\n    <tr>\n      <th>M1B</th>\n      <td>43.806686</td>\n      <td>-79.194353</td>\n    </tr>\n    <tr>\n      <th>M1C</th>\n      <td>43.784535</td>\n      <td>-79.160497</td>\n    </tr>\n    <tr>\n      <th>M1E</th>\n      <td>43.763573</td>\n      <td>-79.188711</td>\n    </tr>\n    <tr>\n      <th>M1G</th>\n      <td>43.770992</td>\n      <td>-79.216917</td>\n    </tr>\n    <tr>\n      <th>M1H</th>\n      <td>43.773136</td>\n      <td>-79.239476</td>\n    </tr>\n  </tbody>\n</table>\n</div>",
                        "text/plain": "              Latitude  Longitude\nPostal Code                      \nM1B          43.806686 -79.194353\nM1C          43.784535 -79.160497\nM1E          43.763573 -79.188711\nM1G          43.770992 -79.216917\nM1H          43.773136 -79.239476"
                    },
                    "execution_count": 13,
                    "metadata": {},
                    "output_type": "execute_result"
                }
            ],
            "source": "toronto_geocsv = 'https://cocl.us/Geospatial_data'\n!wget -q -O 'toronto_m.geospatial_data.csv' toronto_geocsv\ngeocsv_data = pd.read_csv(toronto_geocsv).set_index(\"Postal Code\")\ngeocsv_data.head()"
        },
        {
            "cell_type": "code",
            "execution_count": 14,
            "metadata": {},
            "outputs": [
                {
                    "data": {
                        "text/html": "<div>\n<style scoped>\n    .dataframe tbody tr th:only-of-type {\n        vertical-align: middle;\n    }\n\n    .dataframe tbody tr th {\n        vertical-align: top;\n    }\n\n    .dataframe thead th {\n        text-align: right;\n    }\n</style>\n<table border=\"1\" class=\"dataframe\">\n  <thead>\n    <tr style=\"text-align: right;\">\n      <th></th>\n      <th>Postal Code</th>\n      <th>Latitude</th>\n      <th>Longitude</th>\n      <th>Borough</th>\n      <th>Neighborhood</th>\n    </tr>\n  </thead>\n  <tbody>\n  </tbody>\n</table>\n</div>",
                        "text/plain": "Empty DataFrame\nColumns: [Postal Code, Latitude, Longitude, Borough, Neighborhood]\nIndex: []"
                    },
                    "execution_count": 14,
                    "metadata": {},
                    "output_type": "execute_result"
                }
            ],
            "source": "df = pd.merge(geocsv_data, df2, on='Postal Code')\ndf.head()"
        },
        {
            "cell_type": "code",
            "execution_count": 15,
            "metadata": {},
            "outputs": [
                {
                    "data": {
                        "text/html": "<div>\n<style scoped>\n    .dataframe tbody tr th:only-of-type {\n        vertical-align: middle;\n    }\n\n    .dataframe tbody tr th {\n        vertical-align: top;\n    }\n\n    .dataframe thead th {\n        text-align: right;\n    }\n</style>\n<table border=\"1\" class=\"dataframe\">\n  <thead>\n    <tr style=\"text-align: right;\">\n      <th></th>\n      <th>Postal Code</th>\n      <th>Borough</th>\n      <th>Neighborhood</th>\n      <th>Latitude</th>\n      <th>Longitude</th>\n    </tr>\n  </thead>\n  <tbody>\n  </tbody>\n</table>\n</div>",
                        "text/plain": "Empty DataFrame\nColumns: [Postal Code, Borough, Neighborhood, Latitude, Longitude]\nIndex: []"
                    },
                    "execution_count": 15,
                    "metadata": {},
                    "output_type": "execute_result"
                }
            ],
            "source": "df = df[['Postal Code', 'Borough', 'Neighborhood', 'Latitude', 'Longitude']]\ndf.head(11)"
        },
        {
            "cell_type": "code",
            "execution_count": 16,
            "metadata": {},
            "outputs": [],
            "source": "df.to_csv('Toronto.TASK_II_df.csv',index=False)\n"
        },
        {
            "cell_type": "code",
            "execution_count": 17,
            "metadata": {},
            "outputs": [
                {
                    "data": {
                        "text/plain": "(0, 5)"
                    },
                    "execution_count": 17,
                    "metadata": {},
                    "output_type": "execute_result"
                }
            ],
            "source": "df.shape\n"
        },
        {
            "cell_type": "code",
            "execution_count": null,
            "metadata": {},
            "outputs": [],
            "source": ""
        }
    ],
    "metadata": {
        "kernelspec": {
            "display_name": "Python 3.7",
            "language": "python",
            "name": "python3"
        },
        "language_info": {
            "codemirror_mode": {
                "name": "ipython",
                "version": 3
            },
            "file_extension": ".py",
            "mimetype": "text/x-python",
            "name": "python",
            "nbconvert_exporter": "python",
            "pygments_lexer": "ipython3",
            "version": "3.7.9"
        }
    },
    "nbformat": 4,
    "nbformat_minor": 1
}